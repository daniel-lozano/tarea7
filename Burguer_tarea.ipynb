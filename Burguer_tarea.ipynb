{
 "metadata": {
  "name": "Burguer_tarea"
 },
 "nbformat": 3,
 "nbformat_minor": 0,
 "worksheets": [
  {
   "cells": [
    {
     "cell_type": "code",
     "collapsed": false,
     "input": [
      "%pylab inline"
     ],
     "language": "python",
     "metadata": {},
     "outputs": []
    },
    {
     "cell_type": "code",
     "collapsed": false,
     "input": [
      "\"\"\"\n",
      "datos fijos\n",
      "\"\"\"\n",
      "a=0\n",
      "b=2\n",
      "c=1\n",
      "T=0.15\n",
      "\n",
      "pasos=200\n",
      "espaciotiempo=1000\n",
      "\n",
      "dx=2.0/pasos\n",
      "dt=0.15/espaciotiempo\n",
      "beta=c*dt/dx\n",
      "\n",
      "espacio=linspace(a,b,pasos)\n",
      "print beta"
     ],
     "language": "python",
     "metadata": {},
     "outputs": []
    },
    {
     "cell_type": "code",
     "collapsed": false,
     "input": [
      "x=zeros([pasos,1],dtype=float)\n",
      "inicial=zeros([pasos,1],dtype=float)\n",
      "tiempo=zeros([espaciotiempo,1],dtype=float)\n"
     ],
     "language": "python",
     "metadata": {},
     "outputs": []
    },
    {
     "cell_type": "code",
     "collapsed": false,
     "input": [
      "x=3*sin(pi*espacio)\n",
      "inicial=3*sin(pi*espacio)"
     ],
     "language": "python",
     "metadata": {},
     "outputs": []
    },
    {
     "cell_type": "code",
     "collapsed": false,
     "input": [
      "plot(espacio,x,\"ro\",label=\"condicion inicial\")\n",
      "xlabel(\"espacio\")\n",
      "ylabel(\"U(x)\")\n",
      "title(\"tiempo t=0\")\n",
      "legend()\n"
     ],
     "language": "python",
     "metadata": {},
     "outputs": []
    },
    {
     "cell_type": "code",
     "collapsed": false,
     "input": [
      "for i in range(espaciotiempo):\n",
      "    tiempo[i]=(i+1)*dt"
     ],
     "language": "python",
     "metadata": {},
     "outputs": []
    },
    {
     "cell_type": "code",
     "collapsed": false,
     "input": [
      "\"\"\"\n",
      "condiciones de puntos fijos \n",
      "\"\"\"\n",
      "x[0]=0\n",
      "x[-1]=0\n"
     ],
     "language": "python",
     "metadata": {},
     "outputs": []
    },
    {
     "cell_type": "code",
     "collapsed": false,
     "input": [
      "x_past=x.copy()"
     ],
     "language": "python",
     "metadata": {},
     "outputs": []
    },
    {
     "cell_type": "heading",
     "level": 1,
     "metadata": {},
     "source": [
      "solucion 1"
     ]
    },
    {
     "cell_type": "code",
     "collapsed": false,
     "input": [
      "\n",
      "for j in range(espaciotiempo):\n",
      "    \n",
      "   x_past=x.copy()\n",
      "    \n",
      "   for i in range(1,pasos-1):\n",
      "        \n",
      "        x[i]=x_past[i]-(beta*0.5)*( x_past[i+1]**2  -  x_past[i-1]**2 )\n",
      "    \n",
      "    \n",
      "x_final=x.copy()   "
     ],
     "language": "python",
     "metadata": {},
     "outputs": []
    },
    {
     "cell_type": "code",
     "collapsed": false,
     "input": [
      "plot(espacio,x_final,label=\"final\")\n",
      "x2=inicial.copy()\n",
      "x2[0]=0\n",
      "x2[-1]=0\n",
      "plot(espacio,x2,label=\"inicial\")\n",
      "legend()"
     ],
     "language": "python",
     "metadata": {},
     "outputs": []
    },
    {
     "cell_type": "heading",
     "level": 1,
     "metadata": {},
     "source": [
      "solucion 2 "
     ]
    },
    {
     "cell_type": "code",
     "collapsed": false,
     "input": [
      "x2_past=x2.copy()\n"
     ],
     "language": "python",
     "metadata": {},
     "outputs": []
    },
    {
     "cell_type": "code",
     "collapsed": false,
     "input": [
      "for j in range(espaciotiempo):\n",
      "    \n",
      "   x2_past=x2.copy()\n",
      "    \n",
      "   for i in range(1,pasos-1):\n",
      "        \n",
      "        x2[i]=x2_past[i]-(beta*0.25)*( x2_past[i+1]**2 - x2_past[i-1]**2 )+ \\\n",
      "        (beta/8)*( x2_past[i+1] + x2_past[i] )*( x2_past[i+1]**2  -  x2_past[i-1]**2 ) \\\n",
      "        - ( x2_past[i] + x2_past[i-1])*( x2_past[i]**2 - x2_past[i-1]**2 )\n",
      "        plot(espacio,x2)\n",
      "    \n",
      "x2_final=x2.copy()   "
     ],
     "language": "python",
     "metadata": {},
     "outputs": [
      {
       "output_type": "display_data",
       "png": "[encoded data removed]"
      }
     ]
    },
    {
     "cell_type": "code",
     "collapsed": false,
     "input": [
      "print x2_final"
     ],
     "language": "python",
     "metadata": {},
     "outputs": []
    },
    {
     "cell_type": "code",
     "collapsed": false,
     "input": [],
     "language": "python",
     "metadata": {},
     "outputs": []
    },
    {
     "cell_type": "code",
     "collapsed": false,
     "input": [],
     "language": "python",
     "metadata": {},
     "outputs": []
    }
   ],
   "metadata": {}
  }
 ]
}